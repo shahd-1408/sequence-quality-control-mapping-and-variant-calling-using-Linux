{
  "nbformat": 4,
  "nbformat_minor": 0,
  "metadata": {
    "colab": {
      "provenance": []
    },
    "kernelspec": {
      "name": "python3",
      "display_name": "Python 3"
    },
    "language_info": {
      "name": "python"
    }
  },
  "cells": [
    {
      "cell_type": "code",
      "source": [
        "#Performing FastQC\n",
        "\n",
        "fastq-dump --split-files ERR5743893   # split paired read run into two fastq files: Forward and Reverse\n",
        "\n",
        "mkdir QC_Reports\n",
        "\n",
        "fastqc ERR5743893_1.fastq ERR5743893_2.fastq --outdir QC_Report"
      ],
      "metadata": {
        "id": "NeXDXCiosOmV"
      },
      "execution_count": null,
      "outputs": []
    }
  ]
}