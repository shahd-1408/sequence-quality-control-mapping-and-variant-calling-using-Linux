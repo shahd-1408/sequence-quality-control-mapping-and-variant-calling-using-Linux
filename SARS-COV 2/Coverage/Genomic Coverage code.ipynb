{
  "nbformat": 4,
  "nbformat_minor": 0,
  "metadata": {
    "colab": {
      "provenance": []
    },
    "kernelspec": {
      "name": "python3",
      "display_name": "Python 3"
    },
    "language_info": {
      "name": "python"
    }
  },
  "cells": [
    {
      "cell_type": "code",
      "source": [
        "#Genomic coverage using bedtools\n",
        "\n",
        "samtools faidx MN908947.fasta # indexing - output file is in .fai format\n",
        "\n",
        "bedtools genomecov -ibam mapping/ERR5743893.sorted.bam -g MN908947.fasta.fai > Genomic Coverage.txt"
      ],
      "metadata": {
        "id": "le7YSaIVz1xF"
      },
      "execution_count": null,
      "outputs": []
    }
  ]
}
