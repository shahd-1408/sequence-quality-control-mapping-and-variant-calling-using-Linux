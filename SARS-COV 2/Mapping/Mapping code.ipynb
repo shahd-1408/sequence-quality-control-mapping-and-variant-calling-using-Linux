{
  "nbformat": 4,
  "nbformat_minor": 0,
  "metadata": {
    "colab": {
      "provenance": []
    },
    "kernelspec": {
      "name": "python3",
      "display_name": "Python 3"
    },
    "language_info": {
      "name": "python"
    }
  },
  "cells": [
    {
      "cell_type": "code",
      "source": [
        "#Mapping against reference genome\n",
        "\n",
        "mkdir mapping\n",
        "\n",
        "bwa index MN908947.fasta # indexing the genome fasta file - data manipulation step\n",
        "\n",
        "bwa mem MN908947.fasta ERR5743893_1.fastq ERR5743893_2.fastq > mapping/ERR5743893.sam # mapping into a sam file\n",
        "\n",
        "samtools view -bS mapping/ERR5743893.sam > mapping/ERR5743893.bam # converting sam file to bam file to save space\n",
        "\n",
        "samtools sort -o mapping/ERR5743893.sorted.bam mapping/ERR5743893.bam  # sorting the bam file\n",
        "\n",
        "samtools index mapping/ERR5743893.sorted.bam # indexing the sorted bam file\n"
      ],
      "metadata": {
        "id": "faHsJU7XxUem"
      },
      "execution_count": null,
      "outputs": []
    }
  ]
}