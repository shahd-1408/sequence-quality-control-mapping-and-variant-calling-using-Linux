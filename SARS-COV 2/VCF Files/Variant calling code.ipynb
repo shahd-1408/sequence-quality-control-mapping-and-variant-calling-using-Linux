{
  "nbformat": 4,
  "nbformat_minor": 0,
  "metadata": {
    "colab": {
      "provenance": []
    },
    "kernelspec": {
      "name": "python3",
      "display_name": "Python 3"
    },
    "language_info": {
      "name": "python"
    }
  },
  "cells": [
    {
      "cell_type": "code",
      "source": [
        "#variant calling using freebayes\n",
        "\n",
        "freebayes -f MN908947.fasta mapping/ERR5743893.sorted.bam > ERR5743893.VCF #converting bam into vcf filess\n",
        "\n",
        "bgzip ERR5743893.VCF #compressing vcf file\n",
        "tabix ERR5743893.VCF.gz #indexing vcf file"
      ],
      "metadata": {
        "id": "ZRXhgUDY0-ls"
      },
      "execution_count": null,
      "outputs": []
    }
  ]
}